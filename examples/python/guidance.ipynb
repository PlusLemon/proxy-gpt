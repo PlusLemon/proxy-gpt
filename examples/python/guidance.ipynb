{
 "cells": [
  {
   "cell_type": "markdown",
   "id": "5d40c919",
   "metadata": {},
   "source": [
    "# guidance 代理使用案例"
   ]
  },
  {
   "cell_type": "code",
   "execution_count": 1,
   "id": "ebae1d66",
   "metadata": {},
   "outputs": [
    {
     "name": "stdout",
     "output_type": "stream",
     "text": [
      "输入代理服务地址：https://lenmon-proxygpt.hf.space/proxy/openai/v1\n",
      "输入代理Key：········\n"
     ]
    }
   ],
   "source": [
    "# -*- coding: utf-8 -*-\n",
    "import guidance\n",
    "import getpass\n",
    "\n",
    "# 注意在代理后面添加v1\n",
    "api_base = input(\"输入代理服务地址：\")\n",
    "api_key = getpass.getpass(\"输入代理Key：\")"
   ]
  },
  {
   "cell_type": "code",
   "execution_count": 8,
   "id": "fd4e7820",
   "metadata": {},
   "outputs": [],
   "source": [
    "guidance.llm = guidance.llms.OpenAI(model=\"gpt-3.5-turbo\", api_key=api_key, api_base=api_base)"
   ]
  },
  {
   "cell_type": "code",
   "execution_count": 13,
   "id": "7110fa7d",
   "metadata": {},
   "outputs": [],
   "source": [
    "program = guidance(\"\"\"\n",
    "{{#user~}}\n",
    "{{prefix}}什么是Github?\n",
    "{{~/user}}\n",
    "\n",
    "{{#assistant~}}\n",
    "{{gen 'answer'}}\n",
    "{{~/assistant}}\n",
    "\"\"\")"
   ]
  },
  {
   "cell_type": "code",
   "execution_count": 14,
   "id": "e0d29e53",
   "metadata": {},
   "outputs": [
    {
     "name": "stdout",
     "output_type": "stream",
     "text": [
      "Github是一个基于Git版本控制系统的代码托管平台，它提供了一个在线的代码仓库，可以让开发者们在上面存储、管理和分享代码。Github不仅仅是一个代码托管平台，它还提供了一系列的协作工具，如问题跟踪、代码审查、Wiki等，使得开发者们可以更加方便地协作开发和管理项目。Github是开源的，任何人都可以免费使用它来托管自己的代码，并且可以通过贡献代码来参与到开源社区中。\n"
     ]
    }
   ],
   "source": [
    "# 因为代理中已经存在该问题答案，所以无须消耗token\n",
    "executed_program = program(prefix=\"\")\n",
    "print(executed_program[\"answer\"])"
   ]
  },
  {
   "cell_type": "code",
   "execution_count": 16,
   "id": "b59cc1c9",
   "metadata": {},
   "outputs": [
    {
     "name": "stdout",
     "output_type": "stream",
     "text": [
      "Github是一个基于互联网的代码托管平台，它提供了一个集中式的版本控制系统，使得开发者可以在一个地方存储、管理和共享代码。Github的主要功能包括代码托管、版本控制、协作开发、问题跟踪、代码审查等。Github的开源性质和广泛的用户群体使得它成为了全球最大的开源社区之一，许多知名的开源项目都托管在Github上。\n"
     ]
    }
   ],
   "source": [
    "# 如果误命中缓存，可以跳过缓存\n",
    "executed_program = program(prefix=\"/skip_cache \")\n",
    "print(executed_program[\"answer\"])"
   ]
  },
  {
   "cell_type": "code",
   "execution_count": null,
   "id": "9c9adef5",
   "metadata": {},
   "outputs": [],
   "source": []
  }
 ],
 "metadata": {
  "kernelspec": {
   "display_name": "Python 3",
   "language": "python",
   "name": "python3"
  },
  "language_info": {
   "codemirror_mode": {
    "name": "ipython",
    "version": 3
   },
   "file_extension": ".py",
   "mimetype": "text/x-python",
   "name": "python",
   "nbconvert_exporter": "python",
   "pygments_lexer": "ipython3",
   "version": "3.8.8"
  }
 },
 "nbformat": 4,
 "nbformat_minor": 5
}
