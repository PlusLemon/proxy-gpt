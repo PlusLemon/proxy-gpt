{
 "cells": [
  {
   "cell_type": "markdown",
   "id": "801aa813",
   "metadata": {},
   "source": [
    "# OpenAI Python SDK 代理使用案例"
   ]
  },
  {
   "cell_type": "markdown",
   "id": "e8ac83c2",
   "metadata": {},
   "source": [
    "## 设置代理"
   ]
  },
  {
   "cell_type": "code",
   "execution_count": 2,
   "id": "2976fbd6",
   "metadata": {},
   "outputs": [
    {
     "name": "stdout",
     "output_type": "stream",
     "text": [
      "输入代理服务地址：https://lenmon-proxygpt.hf.space/proxy/openai/v1\n",
      "输入代理Key：········\n"
     ]
    }
   ],
   "source": [
    "# -*- coding: utf-8 -*-\n",
    "import openai\n",
    "import getpass\n",
    "\n",
    "# 注意在代理后面添加v1\n",
    "openai.api_base = input(\"输入代理服务地址：\")\n",
    "openai.api_key = getpass.getpass(\"输入代理Key：\")"
   ]
  },
  {
   "cell_type": "markdown",
   "id": "872053fd",
   "metadata": {},
   "source": [
    "## 使用OpenAI ChatGPT 接口"
   ]
  },
  {
   "cell_type": "markdown",
   "id": "2f4b6026",
   "metadata": {},
   "source": [
    "**注意：目前仅支持ChatCompletion接口**"
   ]
  },
  {
   "cell_type": "code",
   "execution_count": 16,
   "id": "4bd05a74",
   "metadata": {},
   "outputs": [
    {
     "name": "stdout",
     "output_type": "stream",
     "text": [
      "{\n",
      "  \"choices\": [\n",
      "    {\n",
      "      \"finish_reason\": \"stop\",\n",
      "      \"index\": 0,\n",
      "      \"message\": {\n",
      "        \"content\": \"GitHub是一个基于Web的Git仓库托管服务，它提供了Git的分布式版本控制功能以及源代码管理（SCM）功能。GitHub也是一个社交平台，允许用户互相关注、发起讨论、分享代码和开源项目。任何人都可以在GitHub上创建一个账户，并在该平台上存储和分享代码，以便其他人可以在其上进行使用、学习或贡献改进建议。因为其开放性和可访问性，GitHub已成为软件开发领域中最受欢迎的协同开发平台之一，被广泛用于开源项目和私有企业中。\",\n",
      "        \"role\": \"assistant\"\n",
      "      }\n",
      "    }\n",
      "  ],\n",
      "  \"created\": 1685848188,\n",
      "  \"id\": \"chatcmpl-7NYPkAStYqHgYYHRQigmn8BOb4ix6\",\n",
      "  \"model\": \"gpt-3.5-turbo-0301\",\n",
      "  \"object\": \"chat.completion\",\n",
      "  \"usage\": {\n",
      "    \"completion_tokens\": 187,\n",
      "    \"prompt_tokens\": 13,\n",
      "    \"total_tokens\": 200\n",
      "  }\n",
      "}\n"
     ]
    }
   ],
   "source": [
    "response = openai.ChatCompletion.create(\n",
    "    model=\"gpt-3.5-turbo\",\n",
    "    messages=[{\"role\": \"user\", \"content\": \"什么是Github\"}],\n",
    ")\n",
    "# encode decode主要是为了解码显示中文\n",
    "print(str(response).encode('utf-8').decode('unicode_escape'))"
   ]
  },
  {
   "cell_type": "code",
   "execution_count": 17,
   "id": "233fc30b",
   "metadata": {},
   "outputs": [
    {
     "name": "stdout",
     "output_type": "stream",
     "text": [
      "{\n",
      "  \"choices\": [\n",
      "    {\n",
      "      \"finish_reason\": \"stop\",\n",
      "      \"index\": 0,\n",
      "      \"message\": {\n",
      "        \"content\": \"GitHub是一个基于Web的Git仓库托管服务，它提供了Git的分布式版本控制功能以及源代码管理（SCM）功能。GitHub也是一个社交平台，允许用户互相关注、发起讨论、分享代码和开源项目。任何人都可以在GitHub上创建一个账户，并在该平台上存储和分享代码，以便其他人可以在其上进行使用、学习或贡献改进建议。因为其开放性和可访问性，GitHub已成为软件开发领域中最受欢迎的协同开发平台之一，被广泛用于开源项目和私有企业中。\",\n",
      "        \"role\": \"assistant\"\n",
      "      }\n",
      "    }\n",
      "  ],\n",
      "  \"created\": 1685848200070,\n",
      "  \"id\": \"chatcmpl-2\",\n",
      "  \"object\": \"chat.completion\",\n",
      "  \"usage\": {\n",
      "    \"completion_tokens\": 0,\n",
      "    \"prompt_tokens\": 0,\n",
      "    \"total_tokens\": 0\n",
      "  }\n",
      "}\n"
     ]
    }
   ],
   "source": [
    "# 类似的请求将不消耗token\n",
    "response = openai.ChatCompletion.create(\n",
    "    model=\"gpt-3.5-turbo\",\n",
    "    messages=[{\"role\": \"user\", \"content\": \"Github是什么\"}],\n",
    ")\n",
    "print(str(response).encode('utf-8').decode('unicode_escape'))"
   ]
  },
  {
   "cell_type": "code",
   "execution_count": 18,
   "id": "ec999177",
   "metadata": {},
   "outputs": [
    {
     "name": "stdout",
     "output_type": "stream",
     "text": [
      "{\n",
      "  \"choices\": [\n",
      "    {\n",
      "      \"finish_reason\": \"stop\",\n",
      "      \"index\": 0,\n",
      "      \"message\": {\n",
      "        \"content\": \"GitHub是一个基于Web的Git仓库托管服务，它提供了Git的分布式版本控制功能以及源代码管理（SCM）功能。GitHub也是一个社交平台，允许用户互相关注、发起讨论、分享代码和开源项目。任何人都可以在GitHub上创建一个账户，并在该平台上存储和分享代码，以便其他人可以在其上进行使用、学习或贡献改进建议。因为其开放性和可访问性，GitHub已成为软件开发领域中最受欢迎的协同开发平台之一，被广泛用于开源项目和私有企业中。\",\n",
      "        \"role\": \"assistant\"\n",
      "      }\n",
      "    }\n",
      "  ],\n",
      "  \"created\": 1685848206548,\n",
      "  \"id\": \"chatcmpl-3\",\n",
      "  \"object\": \"chat.completion\",\n",
      "  \"usage\": {\n",
      "    \"completion_tokens\": 0,\n",
      "    \"prompt_tokens\": 0,\n",
      "    \"total_tokens\": 0\n",
      "  }\n",
      "}\n"
     ]
    }
   ],
   "source": [
    "# 缓存误命中\n",
    "response = openai.ChatCompletion.create(\n",
    "    model=\"gpt-3.5-turbo\",\n",
    "    messages=[{\"role\": \"user\", \"content\": \"Git是什么\"}],\n",
    ")\n",
    "print(str(response).encode('utf-8').decode('unicode_escape'))"
   ]
  },
  {
   "cell_type": "code",
   "execution_count": 19,
   "id": "1bbb1425",
   "metadata": {},
   "outputs": [
    {
     "name": "stdout",
     "output_type": "stream",
     "text": [
      "{\n",
      "  \"choices\": [\n",
      "    {\n",
      "      \"finish_reason\": \"stop\",\n",
      "      \"index\": 0,\n",
      "      \"message\": {\n",
      "        \"content\": \"Git是一个开源的版本控制系统，用于追踪和管理代码的变化。它允许多个开发者同时协作在一个项目中编写代码，并提供了版本管理，项目管理和代码审查等功能。Git最初是由Linus Torvalds开发的，用于管理Linux内核代码。现在已经成为开源社区中最流行的版本控制工具之一。\",\n",
      "        \"role\": \"assistant\"\n",
      "      }\n",
      "    }\n",
      "  ],\n",
      "  \"created\": 1685848228,\n",
      "  \"id\": \"chatcmpl-7NYQOJikEx4X2hFmFjWTDDd7nMkRR\",\n",
      "  \"model\": \"gpt-3.5-turbo-0301\",\n",
      "  \"object\": \"chat.completion\",\n",
      "  \"usage\": {\n",
      "    \"completion_tokens\": 110,\n",
      "    \"prompt_tokens\": 13,\n",
      "    \"total_tokens\": 123\n",
      "  }\n",
      "}\n"
     ]
    }
   ],
   "source": [
    "# 绕过缓存\n",
    "response = openai.ChatCompletion.create(\n",
    "    model=\"gpt-3.5-turbo\",\n",
    "    messages=[{\"role\": \"user\", \"content\": \"/skip_cache Git是什么\"}],\n",
    ")\n",
    "print(str(response).encode('utf-8').decode('unicode_escape'))"
   ]
  },
  {
   "cell_type": "code",
   "execution_count": null,
   "id": "296f418c",
   "metadata": {},
   "outputs": [],
   "source": []
  }
 ],
 "metadata": {
  "kernelspec": {
   "display_name": "Python 3",
   "language": "python",
   "name": "python3"
  },
  "language_info": {
   "codemirror_mode": {
    "name": "ipython",
    "version": 3
   },
   "file_extension": ".py",
   "mimetype": "text/x-python",
   "name": "python",
   "nbconvert_exporter": "python",
   "pygments_lexer": "ipython3",
   "version": "3.8.8"
  }
 },
 "nbformat": 4,
 "nbformat_minor": 5
}
