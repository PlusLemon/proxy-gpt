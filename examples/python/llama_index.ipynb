{
 "cells": [
  {
   "cell_type": "markdown",
   "id": "91479f9b",
   "metadata": {},
   "source": [
    "# llama index 代理使用案例"
   ]
  },
  {
   "cell_type": "code",
   "execution_count": 1,
   "id": "8e363f8c",
   "metadata": {},
   "outputs": [
    {
     "name": "stdout",
     "output_type": "stream",
     "text": [
      "输入代理服务地址：https://lenmon-proxygpt.hf.space/proxy/openai/v1\n",
      "输入代理Key：········\n"
     ]
    }
   ],
   "source": [
    "# -*- coding: utf-8 -*-\n",
    "import llama_index\n",
    "import langchain\n",
    "import getpass\n",
    "\n",
    "# 注意在代理后面添加v1\n",
    "api_base = input(\"输入代理服务地址：\")\n",
    "api_key = getpass.getpass(\"输入代理Key：\")"
   ]
  },
  {
   "cell_type": "code",
   "execution_count": 6,
   "id": "3eb40de1",
   "metadata": {},
   "outputs": [],
   "source": [
    "from llama_index.llm_predictor.chatgpt import ChatGPTLLMPredictor\n",
    "\n",
    "langchain_chat = langchain.llms.OpenAIChat(openai_api_base=api_base, openai_api_key=api_key)\n",
    "\n",
    "# 初始化index的时候替换predictor\n",
    "# index = GPTVectorStoreIndex.from_documents(\n",
    "#     documents,\n",
    "#     service_context=ServiceContext.from_defaults(\n",
    "#         llm_predictor=predictor_obj\n",
    "#     ),\n",
    "# )\n",
    "predictor_obj = ChatGPTLLMPredictor(llm=langchain_chat)"
   ]
  },
  {
   "cell_type": "code",
   "execution_count": 8,
   "id": "3eddfbac",
   "metadata": {},
   "outputs": [
    {
     "name": "stdout",
     "output_type": "stream",
     "text": [
      "('GitHub是一个基于Web的Git仓库托管服务，它提供了Git的分布式版本控制功能以及源代码管理（SCM）功能。GitHub也是一个社交平台，允许用户互相关注、发起讨论、分享代码和开源项目。任何人都可以在GitHub上创建一个账户，并在该平台上存储和分享代码，以便其他人可以在其上进行使用、学习或贡献改进建议。因为其开放性和可访问性，GitHub已成为软件开发领域中最受欢迎的协同开发平台之一，被广泛用于开源项目和私有企业中。', '什么是Github')\n"
     ]
    }
   ],
   "source": [
    "from llama_index.prompts import Prompt\n",
    "\n",
    "# 因为以下答案已经缓存过了，所以不消耗token\n",
    "res = predictor_obj.predict(Prompt(template=\"什么是Github\"))\n",
    "print(res)"
   ]
  },
  {
   "cell_type": "code",
   "execution_count": 9,
   "id": "4a58e18a",
   "metadata": {},
   "outputs": [
    {
     "name": "stdout",
     "output_type": "stream",
     "text": [
      "('Github是一个基于Git的在线代码托管服务，它允许用户创建和管理代码仓库，协作开发和代码版本控制。Github也是一个社交平台，用户可以关注其他用户的代码库、提交问题和请求代码的合并等，这使得GitHub成为全球最大的开源社区之一。Github将代码托管到云端，让你可以在任何地方通过网络访问到你的代码库，从而大大简化了代码的管理和分享。', '/skip_cache 什么是Github')\n"
     ]
    }
   ],
   "source": [
    "# 如果出现缓存误命中，则可以跳过缓存\n",
    "res = predictor_obj.predict(Prompt(template=\"/skip_cache 什么是Github\"))\n",
    "print(res)"
   ]
  },
  {
   "cell_type": "code",
   "execution_count": null,
   "id": "88ae6ebb",
   "metadata": {},
   "outputs": [],
   "source": []
  }
 ],
 "metadata": {
  "kernelspec": {
   "display_name": "Python 3",
   "language": "python",
   "name": "python3"
  },
  "language_info": {
   "codemirror_mode": {
    "name": "ipython",
    "version": 3
   },
   "file_extension": ".py",
   "mimetype": "text/x-python",
   "name": "python",
   "nbconvert_exporter": "python",
   "pygments_lexer": "ipython3",
   "version": "3.8.8"
  }
 },
 "nbformat": 4,
 "nbformat_minor": 5
}
