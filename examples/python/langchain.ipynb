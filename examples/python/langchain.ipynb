{
 "cells": [
  {
   "cell_type": "markdown",
   "id": "620e0794",
   "metadata": {},
   "source": [
    "# LangChain 代理使用案例"
   ]
  },
  {
   "cell_type": "markdown",
   "id": "0fac8b17",
   "metadata": {},
   "source": [
    "代理的设置通过请求参数进行传递，可以像openai sdk那样，直接把openai包中的变量进行修改，下面介绍下如何通过参数传递指定代理"
   ]
  },
  {
   "cell_type": "code",
   "execution_count": 1,
   "id": "2eff510b",
   "metadata": {},
   "outputs": [
    {
     "name": "stdout",
     "output_type": "stream",
     "text": [
      "输入代理服务地址：https://lenmon-proxygpt.hf.space/proxy/openai/v1\n",
      "输入代理Key：········\n"
     ]
    }
   ],
   "source": [
    "# -*- coding: utf-8 -*-\n",
    "import langchain\n",
    "import getpass\n",
    "\n",
    "# 注意在代理后面添加v1\n",
    "api_base = input(\"输入代理服务地址：\")\n",
    "api_key = getpass.getpass(\"输入代理Key：\")"
   ]
  },
  {
   "cell_type": "code",
   "execution_count": 2,
   "id": "96e34bc3",
   "metadata": {},
   "outputs": [
    {
     "name": "stderr",
     "output_type": "stream",
     "text": [
      "/Users/derek/opt/anaconda3/lib/python3.8/site-packages/langchain/llms/openai.py:695: UserWarning: You are trying to use a chat model. This way of initializing it is no longer supported. Instead, please use: `from langchain.chat_models import ChatOpenAI`\n",
      "  warnings.warn(\n"
     ]
    }
   ],
   "source": [
    "# 指定当前OpenAIChat对象的代理地址和代理key\n",
    "langchain_chat = langchain.llms.OpenAIChat(openai_api_base=api_base, openai_api_key=api_key)"
   ]
  },
  {
   "cell_type": "code",
   "execution_count": 4,
   "id": "3544562b",
   "metadata": {},
   "outputs": [
    {
     "data": {
      "text/plain": [
       "'GitHub是一个基于Web的Git仓库托管服务，它提供了Git的分布式版本控制功能以及源代码管理（SCM）功能。GitHub也是一个社交平台，允许用户互相关注、发起讨论、分享代码和开源项目。任何人都可以在GitHub上创建一个账户，并在该平台上存储和分享代码，以便其他人可以在其上进行使用、学习或贡献改进建议。因为其开放性和可访问性，GitHub已成为软件开发领域中最受欢迎的协同开发平台之一，被广泛用于开源项目和私有企业中。'"
      ]
     },
     "execution_count": 4,
     "metadata": {},
     "output_type": "execute_result"
    }
   ],
   "source": [
    "# 因为之前已经缓存了这个问题的答案，所以不消耗toekn了\n",
    "print(langchain_chat(\"什么是Github\"))"
   ]
  },
  {
   "cell_type": "code",
   "execution_count": 7,
   "id": "19338d77",
   "metadata": {},
   "outputs": [
    {
     "name": "stdout",
     "output_type": "stream",
     "text": [
      "GitHub是一个开源代码托管平台，可以让开发者存储、管理和共享其代码库。它不仅适用于个人开发者，也适合团队开发，可以协助开发者协同工作，跟踪和管理版本控制，以及进行代码的审查和合并。GitHub 也提供了一系列功能，如issue跟踪，wiki管理，进行项目文档管理和团队协作等。还是世界上最大的开源社区之一，能够帮助开发者学习和共享开源代码，加快软件开发过程。\n"
     ]
    }
   ],
   "source": [
    "# 如果缓存出现误命中，跳过缓存\n",
    "print(langchain_chat(\"/skip_cache 什么是Github\"))"
   ]
  }
 ],
 "metadata": {
  "kernelspec": {
   "display_name": "Python 3",
   "language": "python",
   "name": "python3"
  },
  "language_info": {
   "codemirror_mode": {
    "name": "ipython",
    "version": 3
   },
   "file_extension": ".py",
   "mimetype": "text/x-python",
   "name": "python",
   "nbconvert_exporter": "python",
   "pygments_lexer": "ipython3",
   "version": "3.8.8"
  }
 },
 "nbformat": 4,
 "nbformat_minor": 5
}
